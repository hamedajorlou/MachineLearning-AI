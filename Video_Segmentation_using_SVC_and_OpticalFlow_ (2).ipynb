{
  "cells": [
    {
      "cell_type": "code",
      "execution_count": null,
      "metadata": {
        "colab": {
          "background_save": true
        },
        "id": "RyyoZmM0Sdyd"
      },
      "outputs": [],
      "source": [
        "import numpy as np\n",
        "import cv2\n",
        "from google.colab.patches import cv2_imshow\n",
        "cap = cv2.VideoCapture('slow_traffic_small.mp4')\n",
        "\n",
        "feature_params = dict( maxCorners = 100,\n",
        "                       qualityLevel = 0.3,\n",
        "                       minDistance = 7,\n",
        "                       blockSize = 7 )\n",
        "\n",
        "lk_params = dict( winSize  = (15,15),\n",
        "                  maxLevel = 2,\n",
        "                  criteria = (cv2.TERM_CRITERIA_EPS | cv2.TERM_CRITERIA_COUNT, 10, 0.03))\n",
        "\n",
        "color = np.random.randint(0,255,(100,3))\n",
        "ret, old_frame = cap.read()\n",
        "old_gray = cv2.cvtColor(old_frame, cv2.COLOR_BGR2GRAY)\n",
        "p0 = cv2.goodFeaturesToTrack(old_gray, mask = None, **feature_params)\n",
        "mask = np.zeros_like(old_frame)\n",
        "while(1):\n",
        "    ret,frame = cap.read()\n",
        "    frame_gray = cv2.cvtColor(frame, cv2.COLOR_BGR2GRAY)\n",
        "    p1, st, err = cv2.calcOpticalFlowPyrLK(old_gray, frame_gray, p0, None, **lk_params)\n",
        "    good_new = p1[st==1]\n",
        "    good_old = p0[st==1]\n",
        "    for i,(new,old) in enumerate(zip(good_new,good_old)):\n",
        "        a,b = new.ravel()\n",
        "        c,d = old.ravel()\n",
        "        mask = cv2.line(mask, (a,b),(c,d), color[i].tolist(), 2)\n",
        "        frame = cv2.circle(frame,(a,b),5,color[i].tolist(),-1)\n",
        "    img = cv2.add(frame,mask)\n",
        "\n",
        "    cv2_imshow(img)\n",
        "    k = cv2.waitKey(30) & 0xff\n",
        "    if k == 27:\n",
        "        break\n",
        "    old_gray = frame_gray.copy()\n",
        "    p0 = good_new.reshape(-1,1,2)\n",
        "\n",
        "cv2.destroyAllWindows()\n",
        "cap.release()"
      ]
    },
    {
      "cell_type": "code",
      "execution_count": null,
      "metadata": {
        "colab": {
          "background_save": true
        },
        "id": "r96N4q5zaCQO"
      },
      "outputs": [],
      "source": [
        "import numpy as np\n",
        "import cv2 as cv\n",
        "cap = cv.VideoCapture(cv.samples.findFile(\"slow_traffic_small.mp4\"))\n",
        "ret, frame1 = cap.read()\n",
        "prvs = cv.cvtColor(frame1, cv.COLOR_BGR2GRAY)\n",
        "hsv = np.zeros_like(frame1)\n",
        "hsv[..., 1] = 255\n",
        "while(1):\n",
        "    ret, frame2 = cap.read()\n",
        "    if not ret:\n",
        "        print('No frames available')\n",
        "        break\n",
        "    next = cv.cvtColor(frame2, cv.COLOR_BGR2GRAY)\n",
        "    flow = cv.calcOpticalFlowFarneback(prvs, next, None, 0.5, 3, 15, 3, 5, 1.2, 0)\n",
        "    mag, ang = cv.cartToPolar(flow[..., 0], flow[..., 1])\n",
        "    hsv[..., 0] = ang*180/np.pi/2\n",
        "    hsv[..., 2] = cv.normalize(mag, None, 0, 255, cv.NORM_MINMAX)\n",
        "    bgr = cv.cvtColor(hsv, cv.COLOR_HSV2BGR)\n",
        "    cv2_imshow(bgr)\n",
        "    k = cv.waitKey(30) & 0xff\n",
        "    if k == 27:\n",
        "        break\n",
        "    elif k == ord('s'):\n",
        "        cv.imwrite('opticalfb.png', frame2)\n",
        "        cv.imwrite('opticalhsv.png', bgr)\n",
        "    prvs = next\n",
        "cv.destroyAllWindows()"
      ]
    },
    {
      "cell_type": "code",
      "execution_count": null,
      "metadata": {
        "id": "PTQG9BldsO2k"
      },
      "outputs": [],
      "source": [
        "import os\n",
        "import cv2 as cv\n",
        "A=dict();\n",
        "A['label']=[]\n",
        "A['files']=[]\n",
        "D = '/content/drive/MyDrive/Cohn-Kanade/happy videos'\n",
        "for i in os.listdir(D):\n",
        "  A['label'].append(i)\n",
        "\n",
        "# for i in os.listdir(D):\n",
        "#   D1 = D + '/' + i \n",
        "#   img = cv.imread(D1, cv.IMREAD_COLOR)\n",
        "#   A['label'].append(i)\n",
        "#   A['files'].append(img)"
      ]
    },
    {
      "cell_type": "code",
      "execution_count": null,
      "metadata": {
        "id": "vaHsHFRD-Zh_"
      },
      "outputs": [],
      "source": [
        "import os\n",
        "from skimage import io\n",
        "import numpy as np\n",
        "from skimage.color import rgb2gray\n",
        "D = '/content/drive/MyDrive/Cohn-Kanade/happy videos'\n",
        "pics = os.listdir(D)\n",
        "names = np.unique([x for x in pics])\n",
        "l = {}\n",
        "for name in names:\n",
        "    l[name] = []\n",
        "for file in os.listdir(D) :\n",
        "  D1 = D + '/' + file\n",
        "  D2 = os.listdir(D1)\n",
        "  for j in D2:\n",
        "    D3 = D1 + '/' + j\n",
        "    img = cv.imread(D3, cv.IMREAD_COLOR)\n",
        "    img=img[250:700,300:900]\n",
        "    l[file].append(img)"
      ]
    },
    {
      "cell_type": "code",
      "execution_count": null,
      "metadata": {
        "colab": {
          "base_uri": "https://localhost:8080/"
        },
        "id": "mfT4pWJCDNvc",
        "outputId": "b43bf052-90b8-4456-8837-08bfd21b3a53"
      },
      "outputs": [
        {
          "data": {
            "text/plain": [
              "(450, 600, 3)"
            ]
          },
          "execution_count": 6,
          "metadata": {},
          "output_type": "execute_result"
        }
      ],
      "source": [
        "from google.colab.patches import cv2_imshow\n",
        "l['S010'][1].shape"
      ]
    },
    {
      "cell_type": "code",
      "execution_count": null,
      "metadata": {
        "id": "SMaaNYUFHCiT"
      },
      "outputs": [],
      "source": [
        "# import cv2\n",
        "# import numpy as np\n",
        "# k={};\n",
        "# for file in os.listdir(D) :\n",
        "#   D1 = D + '/' + file\n",
        "#   D2 = os.listdir(D1)\n",
        "#   for j in D2:\n",
        "#     D3 = D1 + '/' + j\n",
        "#     k[D2].append(j)\n",
        "# k"
      ]
    },
    {
      "cell_type": "code",
      "execution_count": null,
      "metadata": {
        "colab": {
          "base_uri": "https://localhost:8080/"
        },
        "id": "r2CPmhREZtp7",
        "outputId": "972fc986-9ecb-4bd4-cb48-01580139f1c4"
      },
      "outputs": [
        {
          "name": "stdout",
          "output_type": "stream",
          "text": [
            "Drive already mounted at /content/drive; to attempt to forcibly remount, call drive.mount(\"/content/drive\", force_remount=True).\n"
          ]
        }
      ],
      "source": [
        "from google.colab import drive\n",
        "drive.mount('/content/drive')"
      ]
    },
    {
      "cell_type": "code",
      "execution_count": null,
      "metadata": {
        "id": "tPQyp0_QH2Sa"
      },
      "outputs": [],
      "source": [
        "import cv2"
      ]
    },
    {
      "cell_type": "code",
      "execution_count": null,
      "metadata": {
        "id": "tXeiEBBqXpOR"
      },
      "outputs": [],
      "source": [
        "happyvids = os.listdir('/content/drive/MyDrive/Cohn-Kanade/happy videos')\n",
        "happy_features = np.zeros((len(happyvids) , 16))\n",
        "y_happy = np.ones((len(happyvids)))\n",
        "j = 0\n",
        "for happ in happyvids :\n",
        "    frames = os.listdir('/content/drive/MyDrive/Cohn-Kanade/happy videos/' + happ)\n",
        "    i = 0 \n",
        "    vidhist = np.zeros((len(frames)-1, 8))\n",
        "    for frame in frames :\n",
        "        if i == 0: \n",
        "            p1 = cv2.imread('/content/drive/MyDrive/Cohn-Kanade/happy videos/' + happ + \"/\" + frame )\n",
        "            p1 = cv2.cvtColor(p1,cv2.COLOR_BGR2GRAY)\n",
        "            p1 = p1[90:700,300:900]\n",
        "            i += 1\n",
        "            continue\n",
        "        else:\n",
        "            p2 = cv2.imread('/content/drive/MyDrive/Cohn-Kanade/happy videos/' + happ + \"/\" + frame )\n",
        "            p2 = cv2.cvtColor(p2,cv2.COLOR_BGR2GRAY)\n",
        "            p2 = p2[90:700,300:900]\n",
        "\n",
        "        flow = cv2.calcOpticalFlowFarneback(p1,p2, None, 0.5, 3, 15, 3, 5, 1.2, 0)\n",
        "        angle = flow[... ,1]\n",
        "        vidhist[i-1] = np.histogram(angle.flatten(), bins=8)[0]        \n",
        "        p1 = p2\n",
        "        i += 1\n",
        "    vidhist_mean = np.mean(vidhist, axis=0)\n",
        "    vidhist_max = np.max(vidhist, axis=0)\n",
        "    video_features = np.concatenate((vidhist_mean, vidhist_max), axis = 0)\n",
        "    happy_features[j] = video_features\n",
        "    j += 1"
      ]
    },
    {
      "cell_type": "code",
      "source": [
        "surprisevids = os.listdir('/content/drive/MyDrive/Cohn-Kanade/surprise videos')\n",
        "surprise_features = np.zeros((len(surprisevids) , 16))\n",
        "y_surprise = np.zeros((len(surprisevids)))\n",
        "j = 0\n",
        "for surp in surprisevids :\n",
        "    frames = os.listdir('/content/drive/MyDrive/Cohn-Kanade/surprise videos/' + surp)\n",
        "    i = 0 \n",
        "    vidhist = np.zeros((len(frames)-1, 8))\n",
        "    for frame in frames :\n",
        "        if i == 0: \n",
        "            p1 = cv2.imread('/content/drive/MyDrive/Cohn-Kanade/surprise videos/' + surp + \"/\" + frame )\n",
        "            p1 = cv2.cvtColor(p1,cv2.COLOR_BGR2GRAY)\n",
        "            p1 = p1[90:700,300:900]\n",
        "            i += 1\n",
        "            continue\n",
        "        else:\n",
        "            p2 = cv2.imread('/content/drive/MyDrive/Cohn-Kanade/surprise videos/' + surp + \"/\" + frame )\n",
        "            p2 = cv2.cvtColor(p2,cv2.COLOR_BGR2GRAY)\n",
        "            p2 = p2[90:700,300:900]\n",
        "\n",
        "        flow = cv2.calcOpticalFlowFarneback(p1,p2, None, 0.5, 3, 15, 3, 5, 1.2, 0)\n",
        "        angle = flow[... ,1]\n",
        "        vidhist[i-1] = np.histogram(angle.flatten(), bins=8)[0]        \n",
        "    \n",
        "        p1 = p2\n",
        "        i += 1\n",
        "    vidhist_mean = np.mean(vidhist, axis=0)\n",
        "    vidhist_max = np.max(vidhist, axis=0)\n",
        "    video_features = np.concatenate((vidhist_mean, vidhist_max), axis = 0)\n",
        "    surprise_features[j] = video_features\n",
        "    j += 1"
      ],
      "metadata": {
        "id": "NfD-kRD0V4iP"
      },
      "execution_count": null,
      "outputs": []
    },
    {
      "cell_type": "code",
      "execution_count": null,
      "metadata": {
        "id": "ZbxOSBWMdVm2"
      },
      "outputs": [],
      "source": [
        "import cv2 \n",
        "import numpy as np\n",
        "import matplotlib.pyplot as plt\n",
        "import os\n",
        "from sklearn.model_selection import train_test_split\n",
        "from sklearn.svm import SVC,LinearSVC\n",
        "from sklearn.metrics import confusion_matrix\n",
        "from sklearn.model_selection import GridSearchCV"
      ]
    },
    {
      "cell_type": "code",
      "execution_count": null,
      "metadata": {
        "colab": {
          "base_uri": "https://localhost:8080/"
        },
        "id": "3IXEAqa9X2Hc",
        "outputId": "f35139e5-b541-4c16-9b73-ae6f65371438"
      },
      "outputs": [
        {
          "output_type": "stream",
          "name": "stdout",
          "text": [
            "(30, 16)\n",
            "(30, 16)\n",
            "(60, 16)\n",
            "(60,)\n"
          ]
        }
      ],
      "source": [
        "print(surprise_features.shape)\n",
        "X = np.concatenate((happy_features, surprise_features), axis = 0 )\n",
        "y = np.concatenate((y_happy, y_surprise))\n",
        "print(X.shape)\n",
        "print(y.shape)\n",
        "X_train, X_test, y_train, y_test = train_test_split(X, y, test_size=0.3, random_state=2)"
      ]
    },
    {
      "cell_type": "code",
      "source": [
        "y_train"
      ],
      "metadata": {
        "colab": {
          "base_uri": "https://localhost:8080/"
        },
        "id": "bugsFNbTW8gG",
        "outputId": "5f891b24-123a-4197-87d9-6b807c1d97fb"
      },
      "execution_count": null,
      "outputs": [
        {
          "output_type": "execute_result",
          "data": {
            "text/plain": [
              "array([1., 0., 1., 0., 0., 0., 1., 1., 0., 1., 1., 1., 1., 0., 1., 0., 1.,\n",
              "       1., 0., 0., 1., 0., 1., 0., 0., 1., 1., 0., 1., 0., 0., 0., 1., 0.,\n",
              "       1., 1., 0., 1., 1., 0., 1., 0.])"
            ]
          },
          "metadata": {},
          "execution_count": 57
        }
      ]
    },
    {
      "cell_type": "code",
      "execution_count": null,
      "metadata": {
        "colab": {
          "base_uri": "https://localhost:8080/"
        },
        "id": "JK7w51dtX29c",
        "outputId": "02d269c3-b7a1-4ba3-f9bd-25d64f24a5a5"
      },
      "outputs": [
        {
          "output_type": "execute_result",
          "data": {
            "text/plain": [
              "{'C': 0.01, 'gamma': 1e-06}"
            ]
          },
          "metadata": {},
          "execution_count": 58
        }
      ],
      "source": [
        "parameters = {'gamma':[x / 1000000 for x in [1,2,3,4,5,6]], 'C':[0.01 , 0.1 , 1 , 10 , 100]}\n",
        "svc1 = SVC()\n",
        "clf1 = GridSearchCV(svc1, parameters)\n",
        "clf1.fit(X_train, y_train)\n",
        "clf1.best_params_"
      ]
    },
    {
      "cell_type": "code",
      "execution_count": null,
      "metadata": {
        "colab": {
          "base_uri": "https://localhost:8080/"
        },
        "id": "KLkZ_fazX5Tv",
        "outputId": "93ec087a-4a41-488c-e9c3-f1b01b1850c8"
      },
      "outputs": [
        {
          "output_type": "execute_result",
          "data": {
            "text/plain": [
              "SVC(C=0.01, gamma=1e-06, kernel='linear')"
            ]
          },
          "metadata": {},
          "execution_count": 59
        }
      ],
      "source": [
        "clf = SVC(kernel = 'linear', C = 0.01, gamma = 0.000001)\n",
        "clf.fit(X_train, y_train)"
      ]
    },
    {
      "cell_type": "code",
      "execution_count": null,
      "metadata": {
        "id": "2tl2UWSIdqtK"
      },
      "outputs": [],
      "source": [
        "from sklearn.metrics import classification_report"
      ]
    },
    {
      "cell_type": "code",
      "execution_count": null,
      "metadata": {
        "colab": {
          "base_uri": "https://localhost:8080/"
        },
        "id": "efqBsIfmYAFj",
        "outputId": "344f88af-53c5-41f6-d0e7-daa2f76b36a2"
      },
      "outputs": [
        {
          "output_type": "stream",
          "name": "stdout",
          "text": [
            "Confusion matrix : \n",
            " [[7 1]\n",
            " [6 4]]\n",
            "Outcome values : \n",
            " [7 1] [6 4]\n",
            "Classification report : \n",
            "               precision    recall  f1-score   support\n",
            "\n",
            "           1       0.54      0.88      0.67         8\n",
            "           0       0.80      0.40      0.53        10\n",
            "\n",
            "    accuracy                           0.61        18\n",
            "   macro avg       0.67      0.64      0.60        18\n",
            "weighted avg       0.68      0.61      0.59        18\n",
            "\n"
          ]
        }
      ],
      "source": [
        "y_pred = clf.predict(X_test)\n",
        "matrix = confusion_matrix(y_test,y_pred, labels=[1,0])\n",
        "print('Confusion matrix : \\n',matrix)\n",
        "\n",
        "tp, fn = confusion_matrix(y_test,y_pred,labels=[1,0])\n",
        "print('Outcome values : \\n', tp, fn)\n",
        "\n",
        "matrix = classification_report(y_test,y_pred,labels=[1,0])\n",
        "print('Classification report : \\n',matrix)"
      ]
    },
    {
      "cell_type": "code",
      "execution_count": null,
      "metadata": {
        "colab": {
          "base_uri": "https://localhost:8080/"
        },
        "id": "fRAy60b7YC1p",
        "outputId": "1aafd272-af89-416c-e233-7f5e0b51e9c2"
      },
      "outputs": [
        {
          "output_type": "execute_result",
          "data": {
            "text/plain": [
              "1.0"
            ]
          },
          "metadata": {},
          "execution_count": 64
        }
      ],
      "source": [
        "clf.score(X_train, y_train)"
      ]
    },
    {
      "cell_type": "code",
      "execution_count": null,
      "metadata": {
        "colab": {
          "base_uri": "https://localhost:8080/"
        },
        "id": "E2SnqnCWrusB",
        "outputId": "a52d5bbf-19ce-4996-f423-4ea2efb176cc"
      },
      "outputs": [
        {
          "output_type": "execute_result",
          "data": {
            "text/plain": [
              "0.6111111111111112"
            ]
          },
          "metadata": {},
          "execution_count": 65
        }
      ],
      "source": [
        "clf.score(X_test, y_test)"
      ]
    }
  ],
  "metadata": {
    "colab": {
      "collapsed_sections": [],
      "provenance": []
    },
    "kernelspec": {
      "display_name": "Python 3",
      "name": "python3"
    },
    "language_info": {
      "name": "python"
    }
  },
  "nbformat": 4,
  "nbformat_minor": 0
}